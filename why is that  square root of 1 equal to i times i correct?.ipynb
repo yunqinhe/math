{
 "cells": [
  {
   "cell_type": "markdown",
   "id": "57cc1064",
   "metadata": {},
   "source": [
    "**The following url shows that how can one input all kinds of text in jupyter notebook.**\n",
    "\n",
    "https://towardsdatascience.com/write-markdown-latex-in-the-jupyter-notebook-10985edb91fd"
   ]
  },
  {
   "cell_type": "markdown",
   "id": "7aeaf2bc",
   "metadata": {},
   "source": [
    "if $\\sqrt[2]{1} = e^{\\frac{i2k\\pi}{2}}$, then $\\sqrt[2]{1}＝e^{\\frac{i2k\\pi}{2}} = e^{ik\\pi}$, where $e^{ik\\pi}$ can be 1 or -1. \n",
    "And it means that $\\sqrt[2]{1}$ equals to -1 or 1.\n",
    "\n",
    "And $(e^{i2k\\pi})^\\frac{1}{2} = e^{\\frac{ik\\pi}{2}}e^{\\frac{ik\\pi}{2}}$, where $e^{\\frac{ik\\pi}{2}}$ can be one \n",
    "of $e^{\\frac{0\\pi}{2}}＝１, e^{\\frac{i\\pi}{2}}＝i, e^{\\frac{i2\\pi}{2}}＝-1$, and $e^{\\frac{i3\\pi}{2}}＝-i$. \n",
    "So $e^{\\frac{ik\\pi}{2}}$ can only be 1 or -1. And this is why \n",
    "$\\sqrt[2]{1} = \\sqrt[2]{(-1)(-1)} = \\sqrt[2]{-1}\\sqrt[2]{-1} = i \\cdot i$\n"
   ]
  },
  {
   "cell_type": "code",
   "execution_count": 1,
   "id": "4c74c7f3",
   "metadata": {},
   "outputs": [
    {
     "name": "stdout",
     "output_type": "stream",
     "text": [
      "hello\n"
     ]
    }
   ],
   "source": [
    "print(\"hello\")"
   ]
  },
  {
   "cell_type": "code",
   "execution_count": null,
   "id": "2ec1f0b5",
   "metadata": {},
   "outputs": [],
   "source": [
    "$$\n",
    "\\frac{arg 1}{arg 2} \\\\\n",
    "x^2\\\\\n",
    "e^{i\\pi\\pi}\\\\\n",
    "A_i\\\\\n",
    "B_{ij}\\\\\n",
    "\\sqrt[n]{arg}\n",
    "$$"
   ]
  }
 ],
 "metadata": {
  "kernelspec": {
   "display_name": "Python 3",
   "language": "python",
   "name": "python3"
  },
  "language_info": {
   "codemirror_mode": {
    "name": "ipython",
    "version": 3
   },
   "file_extension": ".py",
   "mimetype": "text/x-python",
   "name": "python",
   "nbconvert_exporter": "python",
   "pygments_lexer": "ipython3",
   "version": "3.6.9"
  }
 },
 "nbformat": 4,
 "nbformat_minor": 5
}
